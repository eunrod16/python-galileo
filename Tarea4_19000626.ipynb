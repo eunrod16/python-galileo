{
 "cells": [
  {
   "cell_type": "markdown",
   "metadata": {},
   "source": [
    "### Diferencias np matrix np ndarray"
   ]
  },
  {
   "cell_type": "code",
   "execution_count": 1,
   "metadata": {},
   "outputs": [],
   "source": [
    "import numpy as np"
   ]
  },
  {
   "cell_type": "markdown",
   "metadata": {},
   "source": [
    "#### Numpy Matrix \n",
    "Retorna una matriz desde un arreglo o un string. Una matriz es un arreglo de dos dimensiones. Contiene algunos operadores especiales como * para multiplicar y ** para potencias. Esta clase se utiliza mucho para algebra lineal"
   ]
  },
  {
   "cell_type": "code",
   "execution_count": 2,
   "metadata": {},
   "outputs": [
    {
     "name": "stdout",
     "output_type": "stream",
     "text": [
      "[[1 1]\n",
      " [2 2]]\n"
     ]
    }
   ],
   "source": [
    "a = np.matrix('1 1; 2 2')\n",
    "print (a)"
   ]
  },
  {
   "cell_type": "markdown",
   "metadata": {},
   "source": [
    "#### Numpy Ndarray\n",
    "Es un arreglo multidimensioneal, en el cual se establece un tamaño y un tipo de datos definido homogeneous array of fixed-size items. An associated data-type object describes the format of each element in the array (its byte-order, how many bytes it occupies in memory, whether it is an integer, a floating point number, or something else, etc.)"
   ]
  },
  {
   "cell_type": "code",
   "execution_count": 3,
   "metadata": {},
   "outputs": [
    {
     "name": "stdout",
     "output_type": "stream",
     "text": [
      "[216172782113783808 288230376151711744]\n",
      "[1 2]\n",
      "[[0.1 0.3]\n",
      " [0.2 0.4]]\n",
      "[[0.1 0.2]\n",
      " [0.3 0.4]]\n"
     ]
    }
   ],
   "source": [
    "a = np.ndarray((2,), buffer=np.array([1,2,3,4,5]),offset=9,dtype=int) \n",
    "b = np.ndarray((2,), buffer=np.array([1,2,3,4,5]),dtype=int) \n",
    "c = np.ndarray((2,2), buffer=np.array([.1,.2,.3,.4,.5]),dtype=float, order='F') # ordena por columnas\n",
    "d = np.ndarray((2,2), buffer=np.array([.1,.2,.3,.4,.5]),dtype=float, order='C') # ordena por filas\n",
    "print(a)\n",
    "print(b)\n",
    "print(c)\n",
    "print(d)"
   ]
  },
  {
   "cell_type": "markdown",
   "metadata": {},
   "source": [
    "#### Diferencias\n",
    "\n",
    "| Matrix     | Ndarray    |\n",
    "| ---------- | ---------- |\n",
    "| 2 Dimensiones   | Multidimensional   |\n",
    "|Parámetro data obligatorio   | Parámetro Buffer opcional  |\n",
    "|No ordena   | Permite ordenar por filas y columnas  |"
   ]
  },
  {
   "cell_type": "markdown",
   "metadata": {},
   "source": [
    "### Referencias\n",
    "\n",
    "* numpy.ndarray, \n",
    "https://docs.scipy.org/doc/numpy/reference/generated/numpy.ndarray.html\n",
    "* numpy.matrix, https://docs.scipy.org/doc/numpy/reference/generated/numpy.matrix.html\n"
   ]
  },
  {
   "cell_type": "code",
   "execution_count": null,
   "metadata": {},
   "outputs": [],
   "source": []
  }
 ],
 "metadata": {
  "kernelspec": {
   "display_name": "Python 3",
   "language": "python",
   "name": "python3"
  },
  "language_info": {
   "codemirror_mode": {
    "name": "ipython",
    "version": 3
   },
   "file_extension": ".py",
   "mimetype": "text/x-python",
   "name": "python",
   "nbconvert_exporter": "python",
   "pygments_lexer": "ipython3",
   "version": "3.7.2"
  }
 },
 "nbformat": 4,
 "nbformat_minor": 2
}
