{
 "cells": [
  {
   "cell_type": "markdown",
   "metadata": {},
   "source": [
    "### Hilda Eunice Guadalupe Rodas Rivas\n",
    "### 19000626"
   ]
  },
  {
   "cell_type": "markdown",
   "metadata": {},
   "source": [
    "## Diferencias np matrix np ndarray"
   ]
  },
  {
   "cell_type": "code",
   "execution_count": 1,
   "metadata": {},
   "outputs": [],
   "source": [
    "import numpy as np"
   ]
  },
  {
   "cell_type": "markdown",
   "metadata": {},
   "source": [
    "#### Numpy Matrix \n",
    "Retorna una matriz desde un arreglo o un string. Una matriz es un arreglo de dos dimensiones. Contiene algunos operadores especiales como * para multiplicar y ** para potencias. Esta clase se utiliza mucho para algebra lineal"
   ]
  },
  {
   "cell_type": "code",
   "execution_count": 2,
   "metadata": {},
   "outputs": [
    {
     "name": "stdout",
     "output_type": "stream",
     "text": [
      "[[1 1]\n",
      " [2 2]]\n"
     ]
    }
   ],
   "source": [
    "a = np.matrix('1 1; 2 2')\n",
    "print (a)"
   ]
  },
  {
   "cell_type": "markdown",
   "metadata": {},
   "source": [
    "#### Numpy Ndarray\n",
    "Es un arreglo multidimensioneal, en el cual se establece un tamaño y un tipo de datos definido homogeneous array of fixed-size items. An associated data-type object describes the format of each element in the array (its byte-order, how many bytes it occupies in memory, whether it is an integer, a floating point number, or something else, etc.)"
   ]
  },
  {
   "cell_type": "code",
   "execution_count": 33,
   "metadata": {},
   "outputs": [
    {
     "name": "stdout",
     "output_type": "stream",
     "text": [
      "[[2 3]]\n"
     ]
    }
   ],
   "source": [
    "a = np.ndarray((1,2), buffer=np.array([1,2,3,4,5,6,7,8,9]),offset=np.int_().itemsize,dtype=int) \n",
    "b = np.ndarray((2,), buffer=np.array([1,2,3,4,5]),dtype=int) \n",
    "c = np.ndarray((2,2), buffer=np.array([.1,.2,.3,.4,.5]),dtype=float, order='F') # ordena por columnas\n",
    "d = np.ndarray((2,2), buffer=np.array([.1,.2,.3,.4,.5]),dtype=float, order='C') # ordena por filas\n",
    "print(a)\n"
   ]
  },
  {
   "cell_type": "code",
   "execution_count": null,
   "metadata": {},
   "outputs": [],
   "source": [
    "print(b)\n",
    "print(c)\n",
    "print(d)"
   ]
  },
  {
   "cell_type": "markdown",
   "metadata": {},
   "source": [
    "#### Diferencias\n",
    "\n",
    "| Matrix     | Ndarray    |\n",
    "| ---------- | ---------- |\n",
    "| 2 Dimensiones   | Multidimensional   |\n",
    "|Parámetro data obligatorio   | Parámetro Buffer opcional  |\n",
    "|No ordena   | Permite ordenar por filas y columnas  |\n",
    "|No permite offset   | Permite offset, saltar elementos del buffer  |"
   ]
  },
  {
   "cell_type": "markdown",
   "metadata": {},
   "source": [
    "### Referencias\n",
    "\n",
    "* numpy.ndarray,  Oficial Doc Scipy.org,\n",
    "https://docs.scipy.org/doc/numpy/reference/generated/numpy.ndarray.html\n",
    "* numpy.matrix, Oficial Doc Scipy.org, https://docs.scipy.org/doc/numpy/reference/generated/numpy.matrix.html\n"
   ]
  },
  {
   "cell_type": "code",
   "execution_count": null,
   "metadata": {},
   "outputs": [],
   "source": []
  }
 ],
 "metadata": {
  "kernelspec": {
   "display_name": "Python 3",
   "language": "python",
   "name": "python3"
  },
  "language_info": {
   "codemirror_mode": {
    "name": "ipython",
    "version": 3
   },
   "file_extension": ".py",
   "mimetype": "text/x-python",
   "name": "python",
   "nbconvert_exporter": "python",
   "pygments_lexer": "ipython3",
   "version": "3.7.2"
  }
 },
 "nbformat": 4,
 "nbformat_minor": 2
}
