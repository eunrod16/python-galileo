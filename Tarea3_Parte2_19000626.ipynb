{
 "cells": [
  {
   "cell_type": "code",
   "execution_count": 1,
   "metadata": {},
   "outputs": [],
   "source": [
    "import numpy as np"
   ]
  },
  {
   "cell_type": "markdown",
   "metadata": {},
   "source": [
    "### ¿Qué es Proyección Vectorial?  \n",
    "\n",
    "La proyección de un vector sobre otro da como resultado un vector que tiene la direccion que el vector que recibe la proyeccion y la longitud del vector que se proyecta. Básicamente es como encontrar la sombra de un vector sobre otro. \n",
    "Existen dos tipos de proyecciones la escalar, como su nombre lo dice su resultado es un escalar y la vectorial\n",
    "\n",
    "* Escalar\n",
    "$$proyec(A/B) = \\frac{A*B}{|B|}$$\n",
    "* Vectorial\n",
    "$$proyec(A/B) = \\frac{A*B}{|B|²}*B$$\n",
    "\n",
    "\n",
    "<img src=\"http://4.bp.blogspot.com/-hNxDRB2QBig/Tikqi5MSfoI/AAAAAAAAANk/9nGr11vsqTk/s1600/proy.png\"/>\n",
    "\n"
   ]
  },
  {
   "cell_type": "markdown",
   "metadata": {},
   "source": [
    "#### Definir una ufunc para calcular proyección vectorial sobre vectores de Numpy\n"
   ]
  },
  {
   "cell_type": "code",
   "execution_count": 2,
   "metadata": {},
   "outputs": [],
   "source": [
    "def proyec_vector(A, B):\n",
    "    A = np.array(A)\n",
    "    B = np.array(B)\n",
    "    return (np.dot(A, B)/np.power(np.linalg.norm(B),2))*B\n",
    "    "
   ]
  },
  {
   "cell_type": "markdown",
   "metadata": {},
   "source": [
    "### ¿Cómo interpretamos la proyección vectorial?\n",
    "#### Utilizando la función del punto anterior calcularla para vectores de ejemplo e interpretar o concluir sobre el resultado.\n",
    "\n",
    "Los vectores se pueden interpretar graficamente como componentes del vector. Se podría decir que uno de los lados del lado que se forma del triangulo entre ambos vectores. Por lo tanto para su definición se hace uso de trigonometría.\n",
    "\n",
    "\n",
    "<img src=\"https://ekuatio.com/wp-content/uploads/proyeccion-vectores-29.png\"/>\n",
    "\n",
    "Si se aplica trigonometría,se define el coseno de a como el módulo de la proyección de u sobre v entre el módulo del vector u.\n",
    "\n",
    "$$\\cos a = \\frac{Puv}{|u|}$$\n",
    "\n",
    "Despejando Coseno, se obtiene la fórmula de la proyección vectorial descrita anteriormente. \n",
    "\n",
    "Hay un ejemplo muy común y es el de buscar el trabajo, por medio del vector de fuerza y distancia.\n",
    "$$W= F * d \\cos \\theta$$\n",
    "Se podría decir entonces que nuestros dos vectores son F y d, el coseno está despejado en la fórmula de proyección y W, dicho trabajo será la proyección de ambos vectores.\n",
    "* F [3,5]\n",
    "* d [5,-1]"
   ]
  },
  {
   "cell_type": "code",
   "execution_count": 3,
   "metadata": {},
   "outputs": [
    {
     "data": {
      "text/plain": [
       "array([ 1.92307692, -0.38461538])"
      ]
     },
     "execution_count": 3,
     "metadata": {},
     "output_type": "execute_result"
    }
   ],
   "source": [
    "proyec_vector([3,5],[5,-1])"
   ]
  },
  {
   "cell_type": "markdown",
   "metadata": {},
   "source": [
    "### Investigar o proponer una aplicación o caso de uso de proyección vectorial en ciencia de datos u otras ciencia de tu interés donde se pueda aplicar programación numérica. Como ejemplo o tip para esta parte: un algoritmo muy importante de ML se basa en esto y su nombre puede servir como pista para saber cual es.\n",
    "\n",
    "\n",
    "#### Machine Learning\n",
    "En esta ciencia de datos, existen varios algoritmos muy importantes para el reconocimiento, clasificación y definición de datos. Uno de ellos es **Maquinas de Soporte Vectorial**. \n",
    "Este algoritmo sirve tanto como para la clasificación de los datos como para la regresión de los mismos. En pocas palabras este algoritmo mide la distancia de los puntos en el hiperplano, para lograr clasificar dichos puntos.\n",
    "Por lo tanto se debe conocer la interpretacion geométrica del producto punto el cual se comentó anteriormente como el coseno como módulo entre ambos vectores.\n",
    "\n",
    "Así mismo el algoritmo **Naive Classification** utiliza las fómulas de proyección escalar y vectorial para su propósito.\n",
    "\n",
    "\n",
    "<img src=\"https://eight2late.files.wordpress.com/2016/12/svm-fig-1.png?w=700\"/>\n",
    "\n",
    "En conclusión la proyección vectorial es útil en la ciencia de datos para la clasificación de los mismos.\n"
   ]
  },
  {
   "cell_type": "markdown",
   "metadata": {},
   "source": [
    "### Referencias"
   ]
  },
  {
   "cell_type": "markdown",
   "metadata": {},
   "source": [
    "* \"Proyección de un vector sobre otro\" ,https://ekuatio.com/proyeccion-de-un-vector-sobre-otro-vector-ejercicios-resueltos/\n",
    "* \"Proyeccion de un vector sobre otro vector\", http://xyzcalc.blogspot.com/2011/05/proyeccion-de-un-vector-sobre-otro.html, 24 Mayo 2011\n",
    "* \"Cálculo Vectorial\", http://www.ehu.eus/juancarlos.gorostizaga/apoyo/vectores\n",
    "* \"Máquinas de Soporte Vectorial\" https://ccc.inaoep.mx/~emorales/Cursos/NvoAprend/Acetatos/svm2017.pdf,Eduardo Morales, Jesus González, Hugo Jair Escalante , 2017\n",
    "* \"Naive Classification Using Matrix Dot Product Change Of Basis With Interactive Code In Numpy Eaae\" http://www.soidergi.com/2018/12/vector-vs-scalar-projections/naive-classification-using-matrix-dot-product-change-of-basis-with-interactive-code-in-numpy-eaae/ 16 Diciembre 2018"
   ]
  },
  {
   "cell_type": "code",
   "execution_count": null,
   "metadata": {},
   "outputs": [],
   "source": []
  }
 ],
 "metadata": {
  "kernelspec": {
   "display_name": "Python 3",
   "language": "python",
   "name": "python3"
  },
  "language_info": {
   "codemirror_mode": {
    "name": "ipython",
    "version": 3
   },
   "file_extension": ".py",
   "mimetype": "text/x-python",
   "name": "python",
   "nbconvert_exporter": "python",
   "pygments_lexer": "ipython3",
   "version": "3.7.2"
  }
 },
 "nbformat": 4,
 "nbformat_minor": 2
}
