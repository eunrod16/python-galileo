{
 "cells": [
  {
   "cell_type": "code",
   "execution_count": 1,
   "metadata": {},
   "outputs": [],
   "source": [
    "import numpy as np"
   ]
  },
  {
   "cell_type": "markdown",
   "metadata": {},
   "source": [
    "### Que es proyección vectorial?  \n",
    "\n",
    "La proyección de un vector sobre otro da como resultado un vector que tiene la direccion que el vector que recibe la proyeccion y la longitud del vector que se proyecta. Básicamente es como encontrar la sombra de un vector sobre otro. \n",
    "Se encuentra de la siguiente manera \n",
    "$$proyec(A/B) = \\frac{A*B}{|B|²}*B$$\n",
    "\n",
    "\n",
    "<img src=\"http://4.bp.blogspot.com/-hNxDRB2QBig/Tikqi5MSfoI/AAAAAAAAANk/9nGr11vsqTk/s1600/proy.png\"/>\n",
    "\n"
   ]
  },
  {
   "cell_type": "markdown",
   "metadata": {},
   "source": [
    "#### Definir una ufunc para calcular proyección vectorial sobre vectores de Numpy\n"
   ]
  },
  {
   "cell_type": "code",
   "execution_count": 9,
   "metadata": {},
   "outputs": [],
   "source": [
    "def proyec_vector(A, B):\n",
    "    A = np.array(A)\n",
    "    B = np.array(B)\n",
    "    return (np.dot(A, B)/np.power(np.linalg.norm(B),2))*B\n",
    "    "
   ]
  },
  {
   "cell_type": "markdown",
   "metadata": {},
   "source": [
    "### Como interpretamos la proyección vectorial?\n",
    "#### Utilizando la función del punto anterior calcularla para vectores de ejemplo e interpretar o concluir sobre el resultado.\n"
   ]
  },
  {
   "cell_type": "code",
   "execution_count": 10,
   "metadata": {},
   "outputs": [
    {
     "data": {
      "text/plain": [
       "array([ 1.92307692, -0.38461538])"
      ]
     },
     "execution_count": 10,
     "metadata": {},
     "output_type": "execute_result"
    }
   ],
   "source": [
    "proyec_vector([3,5],[5,-1])"
   ]
  },
  {
   "cell_type": "markdown",
   "metadata": {},
   "source": [
    "### Investigar o proponer una aplicación o caso de uso de proyección vectorial en ciencia de datos u otras ciencia de tu interés donde se pueda aplicar programación numérica. Como ejemplo o tip para esta parte: un algoritmo muy importante de ML se basa en esto y su nombre puede servir como pista para saber cual es."
   ]
  },
  {
   "cell_type": "markdown",
   "metadata": {},
   "source": [
    "### Referencias"
   ]
  },
  {
   "cell_type": "markdown",
   "metadata": {},
   "source": [
    "* \"Proyección de un vector sobre otro\" ,https://ekuatio.com/proyeccion-de-un-vector-sobre-otro-vector-ejercicios-resueltos/\n",
    "* \"Proyeccion de un vector sobre otro vector\", http://xyzcalc.blogspot.com/2011/05/proyeccion-de-un-vector-sobre-otro.html, 24 Mayo 2011"
   ]
  },
  {
   "cell_type": "code",
   "execution_count": null,
   "metadata": {},
   "outputs": [],
   "source": []
  }
 ],
 "metadata": {
  "kernelspec": {
   "display_name": "Python 3",
   "language": "python",
   "name": "python3"
  },
  "language_info": {
   "codemirror_mode": {
    "name": "ipython",
    "version": 3
   },
   "file_extension": ".py",
   "mimetype": "text/x-python",
   "name": "python",
   "nbconvert_exporter": "python",
   "pygments_lexer": "ipython3",
   "version": "3.7.2"
  }
 },
 "nbformat": 4,
 "nbformat_minor": 2
}
