{
 "cells": [
  {
   "cell_type": "markdown",
   "metadata": {},
   "source": [
    "## Regresion Polinomial & Feature engineering"
   ]
  },
  {
   "cell_type": "code",
   "execution_count": 3,
   "metadata": {},
   "outputs": [],
   "source": [
    "import pandas as pd\n",
    "import numpy as np\n",
    "import matplotlib.pyplot as plt\n",
    "import tensorflow as tf \n",
    "from sklearn.ensemble import ExtraTreesClassifier"
   ]
  },
  {
   "cell_type": "code",
   "execution_count": 4,
   "metadata": {},
   "outputs": [],
   "source": [
    "data = pd.read_csv('winequality-red.csv')"
   ]
  },
  {
   "cell_type": "markdown",
   "metadata": {},
   "source": [
    "### Red Wine Quality Data\n",
    "\n",
    "Se aplicará regresión para crear un modelo de la calidad de vino en función de características del mismo, siendo 1 el peor vino y 10 el mejor.\n",
    "\n",
    "Variables de entrada:\n",
    "1. fixed acidity \n",
    "2. volatile acidity \n",
    "3. citric acid \n",
    "4. residual sugar \n",
    "5. chlorides \n",
    "6. free sulfur dioxide \n",
    "7. total sulfur dioxide \n",
    "8. density \n",
    "9. pH \n",
    "10. sulphates \n",
    "11. alcohol \n",
    "\n",
    "Varaible a predecir: \n",
    "12. quality (puntuacion  entre 0 y 10) \n",
    "\n"
   ]
  },
  {
   "cell_type": "code",
   "execution_count": 5,
   "metadata": {},
   "outputs": [
    {
     "data": {
      "text/html": [
       "<div>\n",
       "<style scoped>\n",
       "    .dataframe tbody tr th:only-of-type {\n",
       "        vertical-align: middle;\n",
       "    }\n",
       "\n",
       "    .dataframe tbody tr th {\n",
       "        vertical-align: top;\n",
       "    }\n",
       "\n",
       "    .dataframe thead th {\n",
       "        text-align: right;\n",
       "    }\n",
       "</style>\n",
       "<table border=\"1\" class=\"dataframe\">\n",
       "  <thead>\n",
       "    <tr style=\"text-align: right;\">\n",
       "      <th></th>\n",
       "      <th>fixed acidity</th>\n",
       "      <th>volatile acidity</th>\n",
       "      <th>citric acid</th>\n",
       "      <th>residual sugar</th>\n",
       "      <th>chlorides</th>\n",
       "      <th>free sulfur dioxide</th>\n",
       "      <th>total sulfur dioxide</th>\n",
       "      <th>density</th>\n",
       "      <th>pH</th>\n",
       "      <th>sulphates</th>\n",
       "      <th>alcohol</th>\n",
       "      <th>quality</th>\n",
       "    </tr>\n",
       "  </thead>\n",
       "  <tbody>\n",
       "    <tr>\n",
       "      <th>0</th>\n",
       "      <td>7.4</td>\n",
       "      <td>0.70</td>\n",
       "      <td>0.00</td>\n",
       "      <td>1.9</td>\n",
       "      <td>0.076</td>\n",
       "      <td>11.0</td>\n",
       "      <td>34.0</td>\n",
       "      <td>0.9978</td>\n",
       "      <td>3.51</td>\n",
       "      <td>0.56</td>\n",
       "      <td>9.4</td>\n",
       "      <td>5</td>\n",
       "    </tr>\n",
       "    <tr>\n",
       "      <th>1</th>\n",
       "      <td>7.8</td>\n",
       "      <td>0.88</td>\n",
       "      <td>0.00</td>\n",
       "      <td>2.6</td>\n",
       "      <td>0.098</td>\n",
       "      <td>25.0</td>\n",
       "      <td>67.0</td>\n",
       "      <td>0.9968</td>\n",
       "      <td>3.20</td>\n",
       "      <td>0.68</td>\n",
       "      <td>9.8</td>\n",
       "      <td>5</td>\n",
       "    </tr>\n",
       "    <tr>\n",
       "      <th>2</th>\n",
       "      <td>7.8</td>\n",
       "      <td>0.76</td>\n",
       "      <td>0.04</td>\n",
       "      <td>2.3</td>\n",
       "      <td>0.092</td>\n",
       "      <td>15.0</td>\n",
       "      <td>54.0</td>\n",
       "      <td>0.9970</td>\n",
       "      <td>3.26</td>\n",
       "      <td>0.65</td>\n",
       "      <td>9.8</td>\n",
       "      <td>5</td>\n",
       "    </tr>\n",
       "    <tr>\n",
       "      <th>3</th>\n",
       "      <td>11.2</td>\n",
       "      <td>0.28</td>\n",
       "      <td>0.56</td>\n",
       "      <td>1.9</td>\n",
       "      <td>0.075</td>\n",
       "      <td>17.0</td>\n",
       "      <td>60.0</td>\n",
       "      <td>0.9980</td>\n",
       "      <td>3.16</td>\n",
       "      <td>0.58</td>\n",
       "      <td>9.8</td>\n",
       "      <td>6</td>\n",
       "    </tr>\n",
       "    <tr>\n",
       "      <th>4</th>\n",
       "      <td>7.4</td>\n",
       "      <td>0.70</td>\n",
       "      <td>0.00</td>\n",
       "      <td>1.9</td>\n",
       "      <td>0.076</td>\n",
       "      <td>11.0</td>\n",
       "      <td>34.0</td>\n",
       "      <td>0.9978</td>\n",
       "      <td>3.51</td>\n",
       "      <td>0.56</td>\n",
       "      <td>9.4</td>\n",
       "      <td>5</td>\n",
       "    </tr>\n",
       "  </tbody>\n",
       "</table>\n",
       "</div>"
      ],
      "text/plain": [
       "   fixed acidity  volatile acidity  citric acid  residual sugar  chlorides  \\\n",
       "0            7.4              0.70         0.00             1.9      0.076   \n",
       "1            7.8              0.88         0.00             2.6      0.098   \n",
       "2            7.8              0.76         0.04             2.3      0.092   \n",
       "3           11.2              0.28         0.56             1.9      0.075   \n",
       "4            7.4              0.70         0.00             1.9      0.076   \n",
       "\n",
       "   free sulfur dioxide  total sulfur dioxide  density    pH  sulphates  \\\n",
       "0                 11.0                  34.0   0.9978  3.51       0.56   \n",
       "1                 25.0                  67.0   0.9968  3.20       0.68   \n",
       "2                 15.0                  54.0   0.9970  3.26       0.65   \n",
       "3                 17.0                  60.0   0.9980  3.16       0.58   \n",
       "4                 11.0                  34.0   0.9978  3.51       0.56   \n",
       "\n",
       "   alcohol  quality  \n",
       "0      9.4        5  \n",
       "1      9.8        5  \n",
       "2      9.8        5  \n",
       "3      9.8        6  \n",
       "4      9.4        5  "
      ]
     },
     "execution_count": 5,
     "metadata": {},
     "output_type": "execute_result"
    }
   ],
   "source": [
    "data.head()"
   ]
  },
  {
   "cell_type": "markdown",
   "metadata": {},
   "source": [
    "### Instrucciones\n",
    "\n",
    "1. Seleccionar y transformar(generando las combinaciones polinomiales para un polinomio de grado dos o tres a elección) las features que considere que son las mejores para predecir la calidad del vino, utilizar como minimo 2 features. Para seleccionar las features, hacer un analisis exploratorio por ejemplo(pero no limitado a ):  graficando y viendo la forma en que se comportan los datos.\n",
    "\n",
    " Por ejemplo, se tienen las features \"a\" y \"b\" y seleccionamos polinomio de grado 2, hacemos feature engineering para obtener :\n",
    " \n",
    " $[a,b,a^{2},b^{2},ab]$\n",
    " \n",
    " No olvidar el \"bias\" (parámetro multiplicado por 1) ,con lo cual el dataset puede quedar con las columnas:\n",
    " \n",
    " $[1,a,b,a^{2},b^{2},ab]$\n",
    "2. Una vez transformada la data aplicar regresion lineal con las features polinomiales usando Tensorflow.\n",
    "\n",
    "Requisitos adicionales:\n",
    "* Se debe agregar al notebook un screenshot del grafo de tensorboard, simplificando(usando  names , y name_scope como visto en clase).\n",
    "\n",
    "* Se debe generar un directorio de logs de tensorboard para cada corrida/experimento , con cada directorio identificando facilmente la configuración del experimento como visto en clase, por ejemplo para un experimento con learning rate = 0.1 , y polinomio grado 2  crear un directorio: lr=0.1_polinomio_grado=2. (Agregar al notebook un screenshot de estas gráficas)\n",
    "\n",
    "* Concluir en markdown cual es el mejor modelo para este caso basado en la comparativa entre curvas de costo/error en tensorboard."
   ]
  },
  {
   "cell_type": "code",
   "execution_count": 6,
   "metadata": {},
   "outputs": [
    {
     "name": "stderr",
     "output_type": "stream",
     "text": [
      "/home/eunice/.conda/envs/galileo_python/lib/python3.7/site-packages/sklearn/ensemble/forest.py:246: FutureWarning: The default value of n_estimators will change from 10 in version 0.20 to 100 in 0.22.\n",
      "  \"10 in version 0.20 to 100 in 0.22.\", FutureWarning)\n"
     ]
    },
    {
     "name": "stdout",
     "output_type": "stream",
     "text": [
      "[0.07622848 0.0960731  0.07857767 0.07694639 0.07875453 0.07601327\n",
      " 0.10688623 0.08284043 0.07245284 0.10831996 0.1469071 ]\n"
     ]
    },
    {
     "data": {
      "image/png": "[encoded data removed]",
      "text/plain": [
       "<Figure size 432x288 with 1 Axes>"
      ]
     },
     "metadata": {
      "needs_background": "light"
     },
     "output_type": "display_data"
    }
   ],
   "source": [
    "x = data.iloc[:,0:11]  \n",
    "y = data.iloc[:,-1]   \n",
    "modelo = ExtraTreesClassifier()\n",
    "modelo.fit(x,y)\n",
    "print(modelo.feature_importances_) \n",
    "importancias = pd.Series(modelo.feature_importances_, index=x.columns)\n",
    "importancias.plot(kind='bar')\n",
    "plt.show()\n"
   ]
  },
  {
   "cell_type": "code",
   "execution_count": 7,
   "metadata": {},
   "outputs": [
    {
     "data": {
      "text/html": [
       "<div>\n",
       "<style scoped>\n",
       "    .dataframe tbody tr th:only-of-type {\n",
       "        vertical-align: middle;\n",
       "    }\n",
       "\n",
       "    .dataframe tbody tr th {\n",
       "        vertical-align: top;\n",
       "    }\n",
       "\n",
       "    .dataframe thead th {\n",
       "        text-align: right;\n",
       "    }\n",
       "</style>\n",
       "<table border=\"1\" class=\"dataframe\">\n",
       "  <thead>\n",
       "    <tr style=\"text-align: right;\">\n",
       "      <th></th>\n",
       "      <th>quality</th>\n",
       "      <th>alcohol²</th>\n",
       "      <th>sulphates²</th>\n",
       "      <th>sulphates*alcohol</th>\n",
       "      <th>alcohol</th>\n",
       "      <th>sulphates</th>\n",
       "      <th>bias</th>\n",
       "    </tr>\n",
       "  </thead>\n",
       "  <tbody>\n",
       "    <tr>\n",
       "      <th>0</th>\n",
       "      <td>5</td>\n",
       "      <td>88.36</td>\n",
       "      <td>0.3136</td>\n",
       "      <td>5.264</td>\n",
       "      <td>9.4</td>\n",
       "      <td>0.56</td>\n",
       "      <td>1</td>\n",
       "    </tr>\n",
       "    <tr>\n",
       "      <th>1</th>\n",
       "      <td>5</td>\n",
       "      <td>96.04</td>\n",
       "      <td>0.4624</td>\n",
       "      <td>6.664</td>\n",
       "      <td>9.8</td>\n",
       "      <td>0.68</td>\n",
       "      <td>1</td>\n",
       "    </tr>\n",
       "    <tr>\n",
       "      <th>2</th>\n",
       "      <td>5</td>\n",
       "      <td>96.04</td>\n",
       "      <td>0.4225</td>\n",
       "      <td>6.370</td>\n",
       "      <td>9.8</td>\n",
       "      <td>0.65</td>\n",
       "      <td>1</td>\n",
       "    </tr>\n",
       "    <tr>\n",
       "      <th>3</th>\n",
       "      <td>6</td>\n",
       "      <td>96.04</td>\n",
       "      <td>0.3364</td>\n",
       "      <td>5.684</td>\n",
       "      <td>9.8</td>\n",
       "      <td>0.58</td>\n",
       "      <td>1</td>\n",
       "    </tr>\n",
       "    <tr>\n",
       "      <th>4</th>\n",
       "      <td>5</td>\n",
       "      <td>88.36</td>\n",
       "      <td>0.3136</td>\n",
       "      <td>5.264</td>\n",
       "      <td>9.4</td>\n",
       "      <td>0.56</td>\n",
       "      <td>1</td>\n",
       "    </tr>\n",
       "  </tbody>\n",
       "</table>\n",
       "</div>"
      ],
      "text/plain": [
       "   quality  alcohol²  sulphates²  sulphates*alcohol  alcohol  sulphates  bias\n",
       "0        5     88.36      0.3136              5.264      9.4       0.56     1\n",
       "1        5     96.04      0.4624              6.664      9.8       0.68     1\n",
       "2        5     96.04      0.4225              6.370      9.8       0.65     1\n",
       "3        6     96.04      0.3364              5.684      9.8       0.58     1\n",
       "4        5     88.36      0.3136              5.264      9.4       0.56     1"
      ]
     },
     "execution_count": 7,
     "metadata": {},
     "output_type": "execute_result"
    }
   ],
   "source": [
    "data_transform = pd.DataFrame()\n",
    "data_transform.insert(0,'sulphates',data.iloc[:,9],True)\n",
    "data_transform.insert(0,'alcohol',data.iloc[:,10],True)\n",
    "data_transform.insert(0,'sulphates*alcohol',data.iloc[:,9]*data.iloc[:,10],True)\n",
    "data_transform.insert(0,'sulphates²',data.iloc[:,9]*data.iloc[:,9],True)\n",
    "data_transform.insert(0,'alcohol²',data.iloc[:,10]*data.iloc[:,10],True)\n",
    "data_transform.insert(0,'quality',data.iloc[:,-1],True)\n",
    "data_transform['bias'] = 1\n",
    "data_transform.head()"
   ]
  },
  {
   "cell_type": "code",
   "execution_count": null,
   "metadata": {},
   "outputs": [],
   "source": []
  },
  {
   "cell_type": "code",
   "execution_count": 34,
   "metadata": {},
   "outputs": [],
   "source": [
    "y = data_transform.iloc[:,0]\n",
    "def train(epochs = 200,lr=0.01,x=data_transform.iloc[:,1],feature=\"alcohol2\"):\n",
    "    tf.reset_default_graph()\n",
    "    with tf.name_scope('datos_entrenamiento'):\n",
    "        X = tf.placeholder(tf.float32 , name = \"X\")\n",
    "        Y = tf.placeholder(tf.float32 , name = \"Y\")\n",
    "        learning_rate = tf.placeholder(tf.float32, [] ,name='learning_rate')\n",
    "    with tf.name_scope('parametros'):\n",
    "        w = tf.Variable(0.0,name='W')\n",
    "        b = tf.Variable(0.0,name='B')\n",
    "    with tf.name_scope('modelo'):\n",
    "        Y_predicted = X*w + b\n",
    "    with tf.name_scope('costo'):\n",
    "        error = tf.reduce_mean(tf.square(Y-Y_predicted,name = 'costo'))\n",
    "    optimizer = tf.train.GradientDescentOptimizer(learning_rate=learning_rate)\n",
    "    train_op = optimizer.minimize(error)\n",
    "    cost = tf.summary.scalar('costo',error)\n",
    "    merged_summaries = tf.summary.merge_all()\n",
    "    with tf.Session() as sess:\n",
    "        sess.run(tf.global_variables_initializer())\n",
    "        print('feature: ',feature,'learning_rate: ',lr)\n",
    "        summary_writer = tf.summary.FileWriter('./graphs/ft='+str(feature)+'/lr='+str(lr),sess.graph)\n",
    "        for i in range(epochs):\n",
    "            _=sess.run(train_op,feed_dict={X:x,Y:y,learning_rate:lr})\n",
    "            if i%20==0:\n",
    "                cost_,summary=sess.run([error,merged_summaries],feed_dict={X:x,Y:y})\n",
    "                print ('Epoch: ',i,'cost is: ',cost_)\n",
    "                summary_writer.add_summary(summary,i)\n",
    "    summary_writer.close()"
   ]
  },
  {
   "cell_type": "code",
   "execution_count": 95,
   "metadata": {},
   "outputs": [
    {
     "name": "stdout",
     "output_type": "stream",
     "text": [
      "feature:  sulphates² learning_rate:  0.1\n",
      "Epoch:  0 cost is:  18.81883\n",
      "Epoch:  20 cost is:  0.794191\n",
      "Epoch:  40 cost is:  0.72086877\n",
      "Epoch:  60 cost is:  0.68088436\n",
      "Epoch:  80 cost is:  0.6590141\n",
      "Epoch:  100 cost is:  0.6470514\n",
      "Epoch:  120 cost is:  0.64050806\n",
      "Epoch:  140 cost is:  0.6369292\n",
      "Epoch:  160 cost is:  0.6349714\n",
      "Epoch:  180 cost is:  0.6339006\n"
     ]
    }
   ],
   "source": [
    "pos=2\n",
    "x = data_transform.iloc[:,pos]\n",
    "train(x=x,feature=data_transform.columns[pos],lr=0.1)"
   ]
  },
  {
   "cell_type": "markdown",
   "metadata": {},
   "source": [
    "#### Sulphates ²\n",
    "![alt text](1.png \"Logo Title Text 1\")\n"
   ]
  },
  {
   "cell_type": "code",
   "execution_count": 96,
   "metadata": {},
   "outputs": [
    {
     "name": "stdout",
     "output_type": "stream",
     "text": [
      "feature:  sulphates learning_rate:  0.01\n",
      "Epoch:  0 cost is:  30.6117\n",
      "Epoch:  20 cost is:  9.956131\n",
      "Epoch:  40 cost is:  3.5481048\n",
      "Epoch:  60 cost is:  1.5597073\n",
      "Epoch:  80 cost is:  0.9423015\n",
      "Epoch:  100 cost is:  0.75019026\n",
      "Epoch:  120 cost is:  0.69001675\n",
      "Epoch:  140 cost is:  0.67077965\n",
      "Epoch:  160 cost is:  0.66424984\n",
      "Epoch:  180 cost is:  0.6616712\n"
     ]
    }
   ],
   "source": [
    "pos=5\n",
    "x = data_transform.iloc[:,pos]\n",
    "train(x=x,feature=data_transform.columns[pos],lr=0.01)"
   ]
  },
  {
   "cell_type": "markdown",
   "metadata": {},
   "source": [
    "#### Sulphates \n",
    "![alt text](2.png \"Logo Title Text 1\")"
   ]
  },
  {
   "cell_type": "code",
   "execution_count": 97,
   "metadata": {},
   "outputs": [
    {
     "name": "stdout",
     "output_type": "stream",
     "text": [
      "feature:  alcohol learning_rate:  0.001\n",
      "Epoch:  0 cost is:  19.857191\n",
      "Epoch:  20 cost is:  0.5392241\n",
      "Epoch:  40 cost is:  0.5383333\n",
      "Epoch:  60 cost is:  0.5383053\n",
      "Epoch:  80 cost is:  0.53827703\n",
      "Epoch:  100 cost is:  0.53824896\n",
      "Epoch:  120 cost is:  0.53822094\n",
      "Epoch:  140 cost is:  0.5381928\n",
      "Epoch:  160 cost is:  0.5381648\n",
      "Epoch:  180 cost is:  0.5381367\n"
     ]
    }
   ],
   "source": [
    "pos=4\n",
    "x = data_transform.iloc[:,pos]\n",
    "train(x=x,feature=data_transform.columns[pos],lr=0.001)"
   ]
  },
  {
   "cell_type": "markdown",
   "metadata": {},
   "source": [
    "#### alcohol\n",
    "![alt text](3.png \"Logo Title Text 1\")"
   ]
  },
  {
   "cell_type": "code",
   "execution_count": 98,
   "metadata": {},
   "outputs": [
    {
     "name": "stdout",
     "output_type": "stream",
     "text": [
      "feature:  sulphates*alcohol learning_rate:  0.001\n",
      "Epoch:  0 cost is:  26.409271\n",
      "Epoch:  20 cost is:  2.2071664\n",
      "Epoch:  40 cost is:  1.8980844\n",
      "Epoch:  60 cost is:  1.8866285\n",
      "Epoch:  80 cost is:  1.8789232\n",
      "Epoch:  100 cost is:  1.8713068\n",
      "Epoch:  120 cost is:  1.8637351\n",
      "Epoch:  140 cost is:  1.8562062\n",
      "Epoch:  160 cost is:  1.8487203\n",
      "Epoch:  180 cost is:  1.8412762\n"
     ]
    }
   ],
   "source": [
    "pos=3\n",
    "x = data_transform.iloc[:,pos]\n",
    "train(x=x,feature=data_transform.columns[pos],lr=0.001)"
   ]
  },
  {
   "cell_type": "markdown",
   "metadata": {},
   "source": [
    "#### Sulphatesxalcohol \n",
    "![alt text](4.png \"Logo Title Text 1\")"
   ]
  },
  {
   "cell_type": "code",
   "execution_count": 99,
   "metadata": {},
   "outputs": [
    {
     "name": "stdout",
     "output_type": "stream",
     "text": [
      "feature:  alcohol² learning_rate:  1e-06\n",
      "Epoch:  0 cost is:  30.860888\n",
      "Epoch:  20 cost is:  11.851897\n",
      "Epoch:  40 cost is:  4.9983273\n",
      "Epoch:  60 cost is:  2.5273142\n",
      "Epoch:  80 cost is:  1.6364063\n",
      "Epoch:  100 cost is:  1.315195\n",
      "Epoch:  120 cost is:  1.1993831\n",
      "Epoch:  140 cost is:  1.1576257\n",
      "Epoch:  160 cost is:  1.1425694\n",
      "Epoch:  180 cost is:  1.1371393\n"
     ]
    }
   ],
   "source": [
    "pos=1\n",
    "x = data_transform.iloc[:,pos]\n",
    "train(x=x,feature=data_transform.columns[pos],lr=0.000001)"
   ]
  },
  {
   "cell_type": "markdown",
   "metadata": {},
   "source": [
    "#### alcohol x2 \n",
    "![alt text](5.png \"Logo Title Text 1\")"
   ]
  },
  {
   "cell_type": "code",
   "execution_count": null,
   "metadata": {},
   "outputs": [],
   "source": []
  }
 ],
 "metadata": {
  "kernelspec": {
   "display_name": "Python 3",
   "language": "python",
   "name": "python3"
  },
  "language_info": {
   "codemirror_mode": {
    "name": "ipython",
    "version": 3
   },
   "file_extension": ".py",
   "mimetype": "text/x-python",
   "name": "python",
   "nbconvert_exporter": "python",
   "pygments_lexer": "ipython3",
   "version": "3.7.2"
  }
 },
 "nbformat": 4,
 "nbformat_minor": 2
}
