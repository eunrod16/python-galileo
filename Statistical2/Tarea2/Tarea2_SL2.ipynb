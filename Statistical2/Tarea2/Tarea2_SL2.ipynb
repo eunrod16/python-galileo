{
 "cells": [
  {
   "cell_type": "code",
   "execution_count": 1,
   "metadata": {},
   "outputs": [],
   "source": [
    "import pandas as pd\n",
    "import numpy as np\n",
    "import matplotlib.pyplot as plt\n",
    "import scipy.io as sio\n",
    "import math\n",
    "from scipy.stats import multivariate_normal\n",
    "from sklearn.metrics import f1_score"
   ]
  },
  {
   "cell_type": "code",
   "execution_count": 2,
   "metadata": {},
   "outputs": [],
   "source": [
    "data = pd.read_csv('data.csv')"
   ]
  },
  {
   "cell_type": "code",
   "execution_count": 3,
   "metadata": {},
   "outputs": [
    {
     "data": {
      "text/html": [
       "<div>\n",
       "<style scoped>\n",
       "    .dataframe tbody tr th:only-of-type {\n",
       "        vertical-align: middle;\n",
       "    }\n",
       "\n",
       "    .dataframe tbody tr th {\n",
       "        vertical-align: top;\n",
       "    }\n",
       "\n",
       "    .dataframe thead th {\n",
       "        text-align: right;\n",
       "    }\n",
       "</style>\n",
       "<table border=\"1\" class=\"dataframe\">\n",
       "  <thead>\n",
       "    <tr style=\"text-align: right;\">\n",
       "      <th></th>\n",
       "      <th>Estatura</th>\n",
       "      <th>Edad</th>\n",
       "      <th>Y</th>\n",
       "    </tr>\n",
       "  </thead>\n",
       "  <tbody>\n",
       "    <tr>\n",
       "      <th>0</th>\n",
       "      <td>1.77</td>\n",
       "      <td>26.0</td>\n",
       "      <td>0</td>\n",
       "    </tr>\n",
       "    <tr>\n",
       "      <th>1</th>\n",
       "      <td>1.74</td>\n",
       "      <td>31.0</td>\n",
       "      <td>0</td>\n",
       "    </tr>\n",
       "    <tr>\n",
       "      <th>2</th>\n",
       "      <td>1.72</td>\n",
       "      <td>24.0</td>\n",
       "      <td>0</td>\n",
       "    </tr>\n",
       "    <tr>\n",
       "      <th>3</th>\n",
       "      <td>1.78</td>\n",
       "      <td>24.0</td>\n",
       "      <td>0</td>\n",
       "    </tr>\n",
       "    <tr>\n",
       "      <th>4</th>\n",
       "      <td>1.65</td>\n",
       "      <td>32.0</td>\n",
       "      <td>0</td>\n",
       "    </tr>\n",
       "  </tbody>\n",
       "</table>\n",
       "</div>"
      ],
      "text/plain": [
       "   Estatura  Edad  Y\n",
       "0      1.77  26.0  0\n",
       "1      1.74  31.0  0\n",
       "2      1.72  24.0  0\n",
       "3      1.78  24.0  0\n",
       "4      1.65  32.0  0"
      ]
     },
     "execution_count": 3,
     "metadata": {},
     "output_type": "execute_result"
    }
   ],
   "source": [
    "data.head()"
   ]
  },
  {
   "cell_type": "code",
   "execution_count": 4,
   "metadata": {},
   "outputs": [],
   "source": [
    "x = data.iloc[:,0:2]  \n",
    "y = data.iloc[:,-1] "
   ]
  },
  {
   "cell_type": "code",
   "execution_count": 5,
   "metadata": {},
   "outputs": [
    {
     "data": {
      "text/plain": [
       "Text(0, 0.5, 'Edad')"
      ]
     },
     "execution_count": 5,
     "metadata": {},
     "output_type": "execute_result"
    },
    {
     "data": {
      "image/png": "[encoded data removed]",
      "text/plain": [
       "<Figure size 432x288 with 1 Axes>"
      ]
     },
     "metadata": {
      "needs_background": "light"
     },
     "output_type": "display_data"
    }
   ],
   "source": [
    "plt.scatter(x[\"Estatura\"], x[\"Edad\"], marker = \"x\")\n",
    "plt.xlabel('Estatura')\n",
    "plt.ylabel('Edad')"
   ]
  },
  {
   "cell_type": "code",
   "execution_count": 6,
   "metadata": {},
   "outputs": [],
   "source": [
    "from sklearn.model_selection import train_test_split\n",
    "X_train, X_test, y_train, y_test = train_test_split(x, y, test_size=0.40, random_state=42)"
   ]
  },
  {
   "cell_type": "code",
   "execution_count": 7,
   "metadata": {},
   "outputs": [],
   "source": [
    "def getMuSigma(x):\n",
    "    mu = np.mean(x, axis=0)\n",
    "    sigma = np.cov(x.T)\n",
    "    return mu, sigma\n",
    "\n",
    "def getPDF(x,mu,sigma):\n",
    "    p = multivariate_normal(mean=mu, cov=sigma).pdf(x)\n",
    "    return p"
   ]
  },
  {
   "cell_type": "code",
   "execution_count": 8,
   "metadata": {},
   "outputs": [
    {
     "name": "stdout",
     "output_type": "stream",
     "text": [
      "Estatura    12.101429\n",
      "Edad        40.242857\n",
      "dtype: float64 [[1575.60135165 -320.4572967 ]\n",
      " [-320.4572967  3709.68725275]]\n"
     ]
    }
   ],
   "source": [
    "mu,sigma = getMuSigma(X_train)\n",
    "print(mu,sigma)"
   ]
  },
  {
   "cell_type": "code",
   "execution_count": 9,
   "metadata": {},
   "outputs": [
    {
     "data": {
      "text/plain": [
       "array([6.12847007e-05, 6.13311774e-05, 6.35719597e-05, 6.13126300e-05,\n",
       "       6.32146366e-05, 1.74383492e-07, 6.15154474e-05, 5.08601363e-05,\n",
       "       1.58972477e-07, 6.36299448e-05, 6.09731464e-05, 6.16181594e-05,\n",
       "       6.21547371e-05, 6.15483187e-05])"
      ]
     },
     "execution_count": 9,
     "metadata": {},
     "output_type": "execute_result"
    }
   ],
   "source": [
    "pdf = getPDF(X_train,mu,sigma)\n",
    "pdf"
   ]
  },
  {
   "cell_type": "code",
   "execution_count": 19,
   "metadata": {},
   "outputs": [],
   "source": [
    "def getEpsilons(p, y):\n",
    "    F_actual = 0\n",
    "    _epsilon = 0\n",
    "    _f1 = 0\n",
    "    steps = (max(p) - min(p)) / 1000;\n",
    "    epsilons = np.arange(min(p), max(p), steps)\n",
    "    for epsilon_actual in epsilons:\n",
    "        pred = (p < epsilon_actual).astype(int)\n",
    "        F_actual = f1_score(y, pred, average='binary')\n",
    "        if F_actual > _f1:\n",
    "            _f1 = F_actual\n",
    "            _epsilon = epsilon_actual\n",
    "\n",
    "    return  _epsilon\n",
    "\n"
   ]
  },
  {
   "cell_type": "code",
   "execution_count": 20,
   "metadata": {},
   "outputs": [
    {
     "name": "stdout",
     "output_type": "stream",
     "text": [
      "[8]     Estatura  Edad\n",
      "8       1.85  26.0\n",
      "16      1.70  26.0\n",
      "0       1.77  26.0\n",
      "18      1.66  26.0\n",
      "11      1.79  24.0\n",
      "9       1.75  21.0\n",
      "13      1.65  25.0\n",
      "1       1.74  31.0\n",
      "21    175.10   2.5\n",
      "5       1.66  32.0\n"
     ]
    }
   ],
   "source": [
    "pdf_test = getPDF(X_test,mu,sigma)\n",
    "ep = getEpsilons(pdf,y_train)\n",
    "anomalies = np.asarray(np.where(pdf_test < ep))[0]\n",
    "print(anomalies,X_test)\n"
   ]
  },
  {
   "cell_type": "code",
   "execution_count": 21,
   "metadata": {},
   "outputs": [
    {
     "data": {
      "text/plain": [
       "array([175.1])"
      ]
     },
     "execution_count": 21,
     "metadata": {},
     "output_type": "execute_result"
    }
   ],
   "source": [
    "plotX= X_test.values\n",
    "plotX[anomalies,0]"
   ]
  },
  {
   "cell_type": "code",
   "execution_count": 22,
   "metadata": {},
   "outputs": [
    {
     "data": {
      "text/plain": [
       "Text(0, 0.5, 'Edad')"
      ]
     },
     "execution_count": 22,
     "metadata": {},
     "output_type": "execute_result"
    },
    {
     "data": {
      "image/png": "[encoded data removed]",
      "text/plain": [
       "<Figure size 432x288 with 1 Axes>"
      ]
     },
     "metadata": {
      "needs_background": "light"
     },
     "output_type": "display_data"
    }
   ],
   "source": [
    "plt.scatter(X_test[\"Estatura\"], X_test[\"Edad\"], marker = \"x\")\n",
    "plt.scatter(plotX[anomalies,0], plotX[anomalies,1],  edgecolors = 'r')\n",
    "plt.xlabel('Estatura')\n",
    "plt.ylabel('Edad')"
   ]
  },
  {
   "cell_type": "code",
   "execution_count": null,
   "metadata": {},
   "outputs": [],
   "source": []
  }
 ],
 "metadata": {
  "kernelspec": {
   "display_name": "Python 3",
   "language": "python",
   "name": "python3"
  },
  "language_info": {
   "codemirror_mode": {
    "name": "ipython",
    "version": 3
   },
   "file_extension": ".py",
   "mimetype": "text/x-python",
   "name": "python",
   "nbconvert_exporter": "python",
   "pygments_lexer": "ipython3",
   "version": "3.7.2"
  }
 },
 "nbformat": 4,
 "nbformat_minor": 2
}
