{
 "cells": [
  {
   "cell_type": "markdown",
   "metadata": {},
   "source": [
    "### Hilda Eunice Rodas Rivas\n",
    "### 19000626\n",
    "### Tarea 1"
   ]
  },
  {
   "cell_type": "code",
   "execution_count": 13,
   "metadata": {},
   "outputs": [],
   "source": [
    "import tensorflow as tf \n",
    "import numpy as np"
   ]
  },
  {
   "cell_type": "code",
   "execution_count": 93,
   "metadata": {},
   "outputs": [],
   "source": [
    "dataset = np.load('proyecto_training_data.npy')\n",
    "x = dataset\n",
    "numrows = len(x)-round(len(x) * 0.2)\n",
    "datos_entrenamiento = x[:numrows, ]\n",
    "datos_entrenamiento = np.array(datos_entrenamiento)\n",
    "datos_entrenamiento = np.nan_to_num(datos_entrenamiento)\n",
    "x= datos_entrenamiento[:,1]\n",
    "y= datos_entrenamiento[:,0]"
   ]
  },
  {
   "cell_type": "code",
   "execution_count": 89,
   "metadata": {},
   "outputs": [],
   "source": [
    "\n",
    "training_epochs = 1000\n",
    "tf.reset_default_graph()\n",
    "with tf.name_scope('data_training'):\n",
    "    X = tf.placeholder(tf.float32 , name = \"X\")\n",
    "    Y = tf.placeholder(tf.float32 , name = \"Y\")\n",
    "    learning_rate = tf.placeholder(tf.float32, [] ,name='learning_rate')\n",
    "with tf.name_scope('parameters'):\n",
    "    w = tf.Variable(0.0,name='W')\n",
    "    b = tf.Variable(0.0,name='B')\n",
    "\n",
    "with tf.name_scope('regression_model'):\n",
    "    Y_predicted = X*w + b\n",
    "with tf.name_scope('cost_function'):\n",
    "    loss = tf.reduce_mean(tf.square(Y-Y_predicted,name = 'cost'))\n",
    "optimizer = tf.train.GradientDescentOptimizer(learning_rate=learning_rate)\n",
    "train_op = optimizer.minimize(loss)\n",
    "cost = tf.summary.scalar('cost',loss)\n",
    "merged_summaries = tf.summary.merge_all()"
   ]
  },
  {
   "cell_type": "code",
   "execution_count": 91,
   "metadata": {},
   "outputs": [
    {
     "name": "stdout",
     "output_type": "stream",
     "text": [
      "learning_rate:  0.01\n",
      "Epoch:  0 cost is:  2409050000.0\n",
      "Epoch:  50 cost is:  2373695000.0\n",
      "Epoch:  100 cost is:  2373695000.0\n",
      "Epoch:  150 cost is:  2373695000.0\n",
      "Epoch:  200 cost is:  2373695000.0\n",
      "Epoch:  250 cost is:  2373695000.0\n",
      "Epoch:  300 cost is:  2373695000.0\n",
      "Epoch:  350 cost is:  2373695000.0\n",
      "Epoch:  400 cost is:  2373695000.0\n",
      "Epoch:  450 cost is:  2373695000.0\n",
      "Epoch:  500 cost is:  2373695000.0\n",
      "Epoch:  550 cost is:  2373695000.0\n",
      "Epoch:  600 cost is:  2373695000.0\n",
      "Epoch:  650 cost is:  2373695000.0\n",
      "Epoch:  700 cost is:  2373695000.0\n",
      "Epoch:  750 cost is:  2373695000.0\n",
      "Epoch:  800 cost is:  2373695000.0\n",
      "Epoch:  850 cost is:  2373695000.0\n",
      "Epoch:  900 cost is:  2373695000.0\n",
      "Epoch:  950 cost is:  2373695000.0\n",
      "learning_rate:  0.001\n",
      "Epoch:  0 cost is:  2295084500.0\n",
      "Epoch:  50 cost is:  2294387500.0\n",
      "Epoch:  100 cost is:  2294385700.0\n",
      "Epoch:  150 cost is:  2294385400.0\n",
      "Epoch:  200 cost is:  2294385400.0\n",
      "Epoch:  250 cost is:  2294385400.0\n",
      "Epoch:  300 cost is:  2294385400.0\n",
      "Epoch:  350 cost is:  2294385400.0\n",
      "Epoch:  400 cost is:  2294385400.0\n",
      "Epoch:  450 cost is:  2294385400.0\n",
      "Epoch:  500 cost is:  2294385400.0\n",
      "Epoch:  550 cost is:  2294385400.0\n",
      "Epoch:  600 cost is:  2294385400.0\n",
      "Epoch:  650 cost is:  2294385400.0\n",
      "Epoch:  700 cost is:  2294385400.0\n",
      "Epoch:  750 cost is:  2294385400.0\n",
      "Epoch:  800 cost is:  2294385400.0\n",
      "Epoch:  850 cost is:  2294385400.0\n",
      "Epoch:  900 cost is:  2294385400.0\n",
      "Epoch:  950 cost is:  2294385400.0\n",
      "learning_rate:  0.0001\n",
      "Epoch:  0 cost is:  2309732000.0\n",
      "Epoch:  50 cost is:  2309755100.0\n",
      "Epoch:  100 cost is:  2309786600.0\n",
      "Epoch:  150 cost is:  2309813000.0\n",
      "Epoch:  200 cost is:  2309830400.0\n",
      "Epoch:  250 cost is:  2309840400.0\n",
      "Epoch:  300 cost is:  2309846300.0\n",
      "Epoch:  350 cost is:  2309850000.0\n",
      "Epoch:  400 cost is:  2309852200.0\n",
      "Epoch:  450 cost is:  2309853400.0\n",
      "Epoch:  500 cost is:  2309854000.0\n",
      "Epoch:  550 cost is:  2309854500.0\n",
      "Epoch:  600 cost is:  2309854500.0\n",
      "Epoch:  650 cost is:  2309854500.0\n",
      "Epoch:  700 cost is:  2309854500.0\n",
      "Epoch:  750 cost is:  2309854500.0\n",
      "Epoch:  800 cost is:  2309854500.0\n",
      "Epoch:  850 cost is:  2309854500.0\n",
      "Epoch:  900 cost is:  2309854500.0\n",
      "Epoch:  950 cost is:  2309854500.0\n"
     ]
    }
   ],
   "source": [
    "with tf.Session() as sess:\n",
    "    summary_writer = tf.summary.FileWriter('/home/eunice/PAPD/python/Proyecto',sess.graph)\n",
    "    sess.run(tf.global_variables_initializer())\n",
    "    rates = [0.01,0.001,0.0001]\n",
    "    for rate in rates:\n",
    "        print('learning_rate: ',rate)\n",
    "        for i in range(training_epochs):\n",
    "            for _x,_y in zip(x,y):\n",
    "                _=sess.run(train_op,feed_dict={X:_x,Y:_y,learning_rate:rate})\n",
    "            if i%50==0:\n",
    "                cost_,summary=sess.run([loss,merged_summaries],feed_dict={X:x,Y:y})\n",
    "                print ('Epoch: ',i,'cost is: ',cost_)\n",
    "                summary_writer.add_summary(summary,i)\n",
    "summary_writer.close()"
   ]
  },
  {
   "cell_type": "markdown",
   "metadata": {},
   "source": [
    "Graph: \n",
    "![alt text](graph_run=.png \"Graph\")\n",
    "![alt text](graph_run=1.png \"Graph1\")\n"
   ]
  },
  {
   "cell_type": "markdown",
   "metadata": {},
   "source": [
    "Scalar:\n",
    "![alt text](cost1.svg\"Cost\")"
   ]
  },
  {
   "cell_type": "code",
   "execution_count": null,
   "metadata": {},
   "outputs": [],
   "source": []
  }
 ],
 "metadata": {
  "kernelspec": {
   "display_name": "Python 3",
   "language": "python",
   "name": "python3"
  },
  "language_info": {
   "codemirror_mode": {
    "name": "ipython",
    "version": 3
   },
   "file_extension": ".py",
   "mimetype": "text/x-python",
   "name": "python",
   "nbconvert_exporter": "python",
   "pygments_lexer": "ipython3",
   "version": "3.7.2"
  }
 },
 "nbformat": 4,
 "nbformat_minor": 2
}
